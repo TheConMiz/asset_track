{
 "cells": [
  {
   "cell_type": "code",
   "execution_count": 1,
   "metadata": {},
   "outputs": [
    {
     "name": "stdout",
     "output_type": "stream",
     "text": [
      "Requirement already satisfied: ipykernel in c:\\users\\pinayourvishal\\appdata\\local\\programs\\python\\python39\\lib\\site-packages (from -r requirements.txt (line 1)) (6.4.1)\n",
      "Requirement already satisfied: xlwings in c:\\users\\pinayourvishal\\appdata\\local\\programs\\python\\python39\\lib\\site-packages (from -r requirements.txt (line 2)) (0.24.9)\n",
      "Requirement already satisfied: segno in c:\\users\\pinayourvishal\\appdata\\local\\programs\\python\\python39\\lib\\site-packages (from -r requirements.txt (line 3)) (1.3.3)\n",
      "Requirement already satisfied: pandas in c:\\users\\pinayourvishal\\appdata\\local\\programs\\python\\python39\\lib\\site-packages (from -r requirements.txt (line 4)) (1.3.3)\n",
      "Requirement already satisfied: numpy in c:\\users\\pinayourvishal\\appdata\\local\\programs\\python\\python39\\lib\\site-packages (from -r requirements.txt (line 5)) (1.21.2)\n",
      "Requirement already satisfied: openpyxl in c:\\users\\pinayourvishal\\appdata\\local\\programs\\python\\python39\\lib\\site-packages (from -r requirements.txt (line 6)) (3.0.9)\n",
      "Requirement already satisfied: pillow in c:\\users\\pinayourvishal\\appdata\\local\\programs\\python\\python39\\lib\\site-packages (from -r requirements.txt (line 7)) (8.3.2)\n",
      "Requirement already satisfied: python-barcode in c:\\users\\pinayourvishal\\appdata\\local\\programs\\python\\python39\\lib\\site-packages (from -r requirements.txt (line 8)) (0.13.1)\n",
      "Collecting python-dotenv\n",
      "  Downloading python_dotenv-0.19.0-py2.py3-none-any.whl (17 kB)\n",
      "Requirement already satisfied: traitlets<6.0,>=4.1.0 in c:\\users\\pinayourvishal\\appdata\\local\\programs\\python\\python39\\lib\\site-packages (from ipykernel->-r requirements.txt (line 1)) (5.1.0)\n",
      "Requirement already satisfied: ipython-genutils in c:\\users\\pinayourvishal\\appdata\\local\\programs\\python\\python39\\lib\\site-packages (from ipykernel->-r requirements.txt (line 1)) (0.2.0)\n",
      "Requirement already satisfied: jupyter-client<8.0 in c:\\users\\pinayourvishal\\appdata\\local\\programs\\python\\python39\\lib\\site-packages (from ipykernel->-r requirements.txt (line 1)) (7.0.3)\n",
      "Requirement already satisfied: ipython<8.0,>=7.23.1 in c:\\users\\pinayourvishal\\appdata\\local\\programs\\python\\python39\\lib\\site-packages (from ipykernel->-r requirements.txt (line 1)) (7.28.0)\n",
      "Requirement already satisfied: matplotlib-inline<0.2.0,>=0.1.0 in c:\\users\\pinayourvishal\\appdata\\local\\programs\\python\\python39\\lib\\site-packages (from ipykernel->-r requirements.txt (line 1)) (0.1.3)\n",
      "Requirement already satisfied: tornado<7.0,>=4.2 in c:\\users\\pinayourvishal\\appdata\\local\\programs\\python\\python39\\lib\\site-packages (from ipykernel->-r requirements.txt (line 1)) (6.1)\n",
      "Requirement already satisfied: debugpy<2.0,>=1.0.0 in c:\\users\\pinayourvishal\\appdata\\local\\programs\\python\\python39\\lib\\site-packages (from ipykernel->-r requirements.txt (line 1)) (1.4.3)\n",
      "Requirement already satisfied: pywin32>=224 in c:\\users\\pinayourvishal\\appdata\\local\\programs\\python\\python39\\lib\\site-packages (from xlwings->-r requirements.txt (line 2)) (301)\n",
      "Requirement already satisfied: python-dateutil>=2.7.3 in c:\\users\\pinayourvishal\\appdata\\local\\programs\\python\\python39\\lib\\site-packages (from pandas->-r requirements.txt (line 4)) (2.8.2)\n",
      "Requirement already satisfied: pytz>=2017.3 in c:\\users\\pinayourvishal\\appdata\\local\\programs\\python\\python39\\lib\\site-packages (from pandas->-r requirements.txt (line 4)) (2021.1)\n",
      "Requirement already satisfied: et-xmlfile in c:\\users\\pinayourvishal\\appdata\\local\\programs\\python\\python39\\lib\\site-packages (from openpyxl->-r requirements.txt (line 6)) (1.1.0)\n",
      "Requirement already satisfied: setuptools>=18.5 in c:\\users\\pinayourvishal\\appdata\\local\\programs\\python\\python39\\lib\\site-packages (from ipython<8.0,>=7.23.1->ipykernel->-r requirements.txt (line 1)) (56.0.0)\n",
      "Requirement already satisfied: colorama in c:\\users\\pinayourvishal\\appdata\\local\\programs\\python\\python39\\lib\\site-packages (from ipython<8.0,>=7.23.1->ipykernel->-r requirements.txt (line 1)) (0.4.4)\n",
      "Requirement already satisfied: decorator in c:\\users\\pinayourvishal\\appdata\\local\\programs\\python\\python39\\lib\\site-packages (from ipython<8.0,>=7.23.1->ipykernel->-r requirements.txt (line 1)) (5.1.0)\n",
      "Requirement already satisfied: pygments in c:\\users\\pinayourvishal\\appdata\\local\\programs\\python\\python39\\lib\\site-packages (from ipython<8.0,>=7.23.1->ipykernel->-r requirements.txt (line 1)) (2.10.0)\n",
      "Requirement already satisfied: pickleshare in c:\\users\\pinayourvishal\\appdata\\local\\programs\\python\\python39\\lib\\site-packages (from ipython<8.0,>=7.23.1->ipykernel->-r requirements.txt (line 1)) (0.7.5)\n",
      "Requirement already satisfied: jedi>=0.16 in c:\\users\\pinayourvishal\\appdata\\local\\programs\\python\\python39\\lib\\site-packages (from ipython<8.0,>=7.23.1->ipykernel->-r requirements.txt (line 1)) (0.18.0)\n",
      "Requirement already satisfied: backcall in c:\\users\\pinayourvishal\\appdata\\local\\programs\\python\\python39\\lib\\site-packages (from ipython<8.0,>=7.23.1->ipykernel->-r requirements.txt (line 1)) (0.2.0)\n",
      "Requirement already satisfied: prompt-toolkit!=3.0.0,!=3.0.1,<3.1.0,>=2.0.0 in c:\\users\\pinayourvishal\\appdata\\local\\programs\\python\\python39\\lib\\site-packages (from ipython<8.0,>=7.23.1->ipykernel->-r requirements.txt (line 1)) (3.0.20)\n",
      "Requirement already satisfied: parso<0.9.0,>=0.8.0 in c:\\users\\pinayourvishal\\appdata\\local\\programs\\python\\python39\\lib\\site-packages (from jedi>=0.16->ipython<8.0,>=7.23.1->ipykernel->-r requirements.txt (line 1)) (0.8.2)\n",
      "Requirement already satisfied: pyzmq>=13 in c:\\users\\pinayourvishal\\appdata\\local\\programs\\python\\python39\\lib\\site-packages (from jupyter-client<8.0->ipykernel->-r requirements.txt (line 1)) (22.3.0)\n",
      "Requirement already satisfied: jupyter-core>=4.6.0 in c:\\users\\pinayourvishal\\appdata\\local\\programs\\python\\python39\\lib\\site-packages (from jupyter-client<8.0->ipykernel->-r requirements.txt (line 1)) (4.8.1)\n",
      "Requirement already satisfied: nest-asyncio>=1.5 in c:\\users\\pinayourvishal\\appdata\\local\\programs\\python\\python39\\lib\\site-packages (from jupyter-client<8.0->ipykernel->-r requirements.txt (line 1)) (1.5.1)\n",
      "Requirement already satisfied: entrypoints in c:\\users\\pinayourvishal\\appdata\\local\\programs\\python\\python39\\lib\\site-packages (from jupyter-client<8.0->ipykernel->-r requirements.txt (line 1)) (0.3)\n",
      "Requirement already satisfied: wcwidth in c:\\users\\pinayourvishal\\appdata\\local\\programs\\python\\python39\\lib\\site-packages (from prompt-toolkit!=3.0.0,!=3.0.1,<3.1.0,>=2.0.0->ipython<8.0,>=7.23.1->ipykernel->-r requirements.txt (line 1)) (0.2.5)\n",
      "Requirement already satisfied: six>=1.5 in c:\\users\\pinayourvishal\\appdata\\local\\programs\\python\\python39\\lib\\site-packages (from python-dateutil>=2.7.3->pandas->-r requirements.txt (line 4)) (1.16.0)\n",
      "Installing collected packages: python-dotenv\n",
      "Successfully installed python-dotenv-0.19.0\n"
     ]
    }
   ],
   "source": [
    "# Install dependencies and libraries\n",
    "!pip install -r requirements.txt"
   ]
  },
  {
   "cell_type": "code",
   "execution_count": 1,
   "metadata": {},
   "outputs": [],
   "source": [
    "# Import libraries\n",
    "import os\n",
    "import pandas as pd\n",
    "import numpy as np\n",
    "import xlwings as xw\n",
    "import tempfile\n",
    "import datetime\n",
    "# For QR Code generation\n",
    "import segno\n",
    "from dotenv import load_dotenv"
   ]
  },
  {
   "cell_type": "markdown",
   "metadata": {},
   "source": [
    "# List the Excel Dependencies"
   ]
  },
  {
   "cell_type": "code",
   "execution_count": 2,
   "metadata": {},
   "outputs": [],
   "source": [
    "# TODO: Use Selenium to get dump file automatically\n",
    "assets_dir = \"C:\\\\Users\\\\PinayourVishal\\\\Rhenus\\\\HK - Documents\\\\IT\\\\INTERNAL\\Assets\"\n",
    "# if load_dotenv():\n",
    "#     print(\"Successfully loaded .env. \")\n",
    "    # assets_dir = os.getenv(\"ASSETS_DIR\")\n",
    "\n",
    "#     print(assets_dir)\n",
    "invoices_list = assets_dir + \"\\\\CNHKG0X_IT_Invoices.xlsx\"\n",
    "airwatch_dump = assets_dir + \"\\\\dump\\\\Grid_Report_export.csv\""
   ]
  },
  {
   "cell_type": "markdown",
   "metadata": {},
   "source": [
    "## Get the Workspace One Data Dump\n"
   ]
  },
  {
   "cell_type": "code",
   "execution_count": 3,
   "metadata": {},
   "outputs": [
    {
     "name": "stdout",
     "output_type": "stream",
     "text": [
      "<class 'pandas.core.frame.DataFrame'>\n",
      "RangeIndex: 105 entries, 0 to 104\n",
      "Data columns (total 33 columns):\n",
      " #   Column              Non-Null Count  Dtype  \n",
      "---  ------              --------------  -----  \n",
      " 0   Last Seen           105 non-null    object \n",
      " 1   Friendly Name       105 non-null    object \n",
      " 2   Ownership           105 non-null    object \n",
      " 3   Username            94 non-null     object \n",
      " 4   First Name          94 non-null     object \n",
      " 5   Last Name           94 non-null     object \n",
      " 6   Email               94 non-null     object \n",
      " 7   Platform            105 non-null    object \n",
      " 8   OS                  105 non-null    object \n",
      " 9   Model               105 non-null    object \n",
      " 10  Phone               0 non-null      float64\n",
      " 11  Tags                93 non-null     object \n",
      " 12  Enrollment          105 non-null    object \n",
      " 13  Compliance Status   105 non-null    object \n",
      " 14  Display Name        94 non-null     object \n",
      " 15  Management          105 non-null    object \n",
      " 16  Asset Number        0 non-null      float64\n",
      " 17  Serial Number       105 non-null    object \n",
      " 18  IMEI                10 non-null     float64\n",
      " 19  Organization Group  105 non-null    object \n",
      " 20  Compromised         105 non-null    object \n",
      " 21  Home Carrier        0 non-null      float64\n",
      " 22  Current Carrier     0 non-null      float64\n",
      " 23  Wi-Fi IP Address    0 non-null      float64\n",
      " 24  Public IP Address   105 non-null    object \n",
      " 25  Wi-Fi MAC Address   71 non-null     object \n",
      " 26  Notes               105 non-null    bool   \n",
      " 27  WNS Status          105 non-null    bool   \n",
      " 28  DM Last Seen        105 non-null    object \n",
      " 29  Build Version       105 non-null    int64  \n",
      " 30  Wi-Fi SSID          0 non-null      float64\n",
      " 31  Android Management  0 non-null      float64\n",
      " 32  CPU Architecture    105 non-null    object \n",
      "dtypes: bool(2), float64(8), int64(1), object(22)\n",
      "memory usage: 25.8+ KB\n",
      "['Last Seen', 'Friendly Name', 'Ownership', 'Username', 'First Name', 'Last Name', 'Email', 'Platform', 'OS', 'Model', 'Phone', 'Tags', 'Enrollment', 'Compliance Status', 'Display Name', 'Management', 'Asset Number', 'Serial Number', 'IMEI', 'Organization Group', 'Compromised', 'Home Carrier', 'Current Carrier', 'Wi-Fi IP Address', 'Public IP Address', 'Wi-Fi MAC Address', 'Notes', 'WNS Status', 'DM Last Seen', 'Build Version', 'Wi-Fi SSID', 'Android Management', 'CPU Architecture']\n"
     ]
    }
   ],
   "source": [
    "df_dump = pd.read_csv(airwatch_dump)\n",
    "# Summary information\n",
    "df_dump.info()\n",
    "df_dump.head(50)\n",
    "\n",
    "print(df_dump.columns.to_list())"
   ]
  },
  {
   "cell_type": "markdown",
   "metadata": {},
   "source": [
    "# TODO: GET LOCAL PERIPHERALS DATA"
   ]
  },
  {
   "cell_type": "markdown",
   "metadata": {},
   "source": [
    "# Get Invoices"
   ]
  },
  {
   "cell_type": "code",
   "execution_count": 4,
   "metadata": {},
   "outputs": [
    {
     "name": "stdout",
     "output_type": "stream",
     "text": [
      "<class 'pandas.core.frame.DataFrame'>\n",
      "RangeIndex: 251 entries, 0 to 250\n",
      "Data columns (total 5 columns):\n",
      " #   Column                    Non-Null Count  Dtype         \n",
      "---  ------                    --------------  -----         \n",
      " 0   Invoice Number            66 non-null     object        \n",
      " 1   Serial Number             251 non-null    object        \n",
      " 2   Purchase Date             66 non-null     datetime64[ns]\n",
      " 3   Warranty Expiration Date  23 non-null     datetime64[ns]\n",
      " 4   Invoice File              66 non-null     object        \n",
      "dtypes: datetime64[ns](2), object(3)\n",
      "memory usage: 9.9+ KB\n"
     ]
    },
    {
     "data": {
      "text/html": [
       "<div>\n",
       "<style scoped>\n",
       "    .dataframe tbody tr th:only-of-type {\n",
       "        vertical-align: middle;\n",
       "    }\n",
       "\n",
       "    .dataframe tbody tr th {\n",
       "        vertical-align: top;\n",
       "    }\n",
       "\n",
       "    .dataframe thead th {\n",
       "        text-align: right;\n",
       "    }\n",
       "</style>\n",
       "<table border=\"1\" class=\"dataframe\">\n",
       "  <thead>\n",
       "    <tr style=\"text-align: right;\">\n",
       "      <th></th>\n",
       "      <th>Invoice Number</th>\n",
       "      <th>Serial Number</th>\n",
       "      <th>Purchase Date</th>\n",
       "      <th>Warranty Expiration Date</th>\n",
       "      <th>Invoice File</th>\n",
       "    </tr>\n",
       "  </thead>\n",
       "  <tbody>\n",
       "    <tr>\n",
       "      <th>0</th>\n",
       "      <td>1400666873</td>\n",
       "      <td>6TF31L2</td>\n",
       "      <td>2017-08-20</td>\n",
       "      <td>2022-08-20</td>\n",
       "      <td>https://rhenusasia.sharepoint.com/:b:/s/ITMast...</td>\n",
       "    </tr>\n",
       "    <tr>\n",
       "      <th>1</th>\n",
       "      <td>1400666873</td>\n",
       "      <td>6TDW0L2</td>\n",
       "      <td>2017-08-20</td>\n",
       "      <td>2022-08-20</td>\n",
       "      <td>https://rhenusasia.sharepoint.com/:b:/s/ITMast...</td>\n",
       "    </tr>\n",
       "    <tr>\n",
       "      <th>2</th>\n",
       "      <td>1400614031</td>\n",
       "      <td>F17XPC2</td>\n",
       "      <td>2016-10-05</td>\n",
       "      <td>2021-10-05</td>\n",
       "      <td>https://rhenusasia.sharepoint.com/:b:/s/ITMast...</td>\n",
       "    </tr>\n",
       "    <tr>\n",
       "      <th>3</th>\n",
       "      <td>2017-4159</td>\n",
       "      <td>PF0Q6AFJ</td>\n",
       "      <td>2017-04-21</td>\n",
       "      <td>2020-04-21</td>\n",
       "      <td>https://rhenusasia.sharepoint.com/:b:/s/ITMast...</td>\n",
       "    </tr>\n",
       "    <tr>\n",
       "      <th>4</th>\n",
       "      <td>1400666873</td>\n",
       "      <td>6TB41L2</td>\n",
       "      <td>2017-08-20</td>\n",
       "      <td>2022-08-20</td>\n",
       "      <td>https://rhenusasia.sharepoint.com/:b:/s/ITMast...</td>\n",
       "    </tr>\n",
       "    <tr>\n",
       "      <th>5</th>\n",
       "      <td>1400598945</td>\n",
       "      <td>571MJC2</td>\n",
       "      <td>2016-07-12</td>\n",
       "      <td>2019-07-13</td>\n",
       "      <td>https://rhenusasia.sharepoint.com/:b:/s/ITMast...</td>\n",
       "    </tr>\n",
       "    <tr>\n",
       "      <th>6</th>\n",
       "      <td>1400807900</td>\n",
       "      <td>D57D3X2</td>\n",
       "      <td>2020-01-03</td>\n",
       "      <td>2023-01-03</td>\n",
       "      <td>https://rhenusasia.sharepoint.com/:b:/s/ITMast...</td>\n",
       "    </tr>\n",
       "    <tr>\n",
       "      <th>7</th>\n",
       "      <td>1400813049</td>\n",
       "      <td>1MRLQ13</td>\n",
       "      <td>2020-02-13</td>\n",
       "      <td>2023-02-13</td>\n",
       "      <td>https://rhenusasia.sharepoint.com/:b:/s/ITMast...</td>\n",
       "    </tr>\n",
       "    <tr>\n",
       "      <th>8</th>\n",
       "      <td>1400813049</td>\n",
       "      <td>305DQ13</td>\n",
       "      <td>2020-02-13</td>\n",
       "      <td>2023-02-13</td>\n",
       "      <td>https://rhenusasia.sharepoint.com/:b:/s/ITMast...</td>\n",
       "    </tr>\n",
       "    <tr>\n",
       "      <th>9</th>\n",
       "      <td>1400807900</td>\n",
       "      <td>7S6D3X2</td>\n",
       "      <td>2020-01-03</td>\n",
       "      <td>2023-01-03</td>\n",
       "      <td>https://rhenusasia.sharepoint.com/:b:/s/ITMast...</td>\n",
       "    </tr>\n",
       "    <tr>\n",
       "      <th>10</th>\n",
       "      <td>1400807900</td>\n",
       "      <td>657D3X2</td>\n",
       "      <td>2020-01-03</td>\n",
       "      <td>2023-01-03</td>\n",
       "      <td>https://rhenusasia.sharepoint.com/:b:/s/ITMast...</td>\n",
       "    </tr>\n",
       "    <tr>\n",
       "      <th>11</th>\n",
       "      <td>1400807900</td>\n",
       "      <td>HL77J13</td>\n",
       "      <td>2020-01-03</td>\n",
       "      <td>2025-01-03</td>\n",
       "      <td>https://rhenusasia.sharepoint.com/:b:/s/ITMast...</td>\n",
       "    </tr>\n",
       "    <tr>\n",
       "      <th>12</th>\n",
       "      <td>1400807900</td>\n",
       "      <td>HL78J13</td>\n",
       "      <td>2020-01-03</td>\n",
       "      <td>2025-01-03</td>\n",
       "      <td>https://rhenusasia.sharepoint.com/:b:/s/ITMast...</td>\n",
       "    </tr>\n",
       "    <tr>\n",
       "      <th>13</th>\n",
       "      <td>1400807900</td>\n",
       "      <td>HL64J13</td>\n",
       "      <td>2020-01-03</td>\n",
       "      <td>2025-01-03</td>\n",
       "      <td>https://rhenusasia.sharepoint.com/:b:/s/ITMast...</td>\n",
       "    </tr>\n",
       "    <tr>\n",
       "      <th>14</th>\n",
       "      <td>1400807900</td>\n",
       "      <td>HL60J13</td>\n",
       "      <td>2020-01-03</td>\n",
       "      <td>2025-01-03</td>\n",
       "      <td>https://rhenusasia.sharepoint.com/:b:/s/ITMast...</td>\n",
       "    </tr>\n",
       "    <tr>\n",
       "      <th>15</th>\n",
       "      <td>1400807900</td>\n",
       "      <td>HL67J13</td>\n",
       "      <td>2020-01-03</td>\n",
       "      <td>2025-01-03</td>\n",
       "      <td>https://rhenusasia.sharepoint.com/:b:/s/ITMast...</td>\n",
       "    </tr>\n",
       "    <tr>\n",
       "      <th>16</th>\n",
       "      <td>1400807900</td>\n",
       "      <td>HL72J13</td>\n",
       "      <td>2020-01-03</td>\n",
       "      <td>2025-01-03</td>\n",
       "      <td>https://rhenusasia.sharepoint.com/:b:/s/ITMast...</td>\n",
       "    </tr>\n",
       "    <tr>\n",
       "      <th>17</th>\n",
       "      <td>1400816343</td>\n",
       "      <td>CL56033</td>\n",
       "      <td>2020-03-04</td>\n",
       "      <td>2025-03-04</td>\n",
       "      <td>https://rhenusasia.sharepoint.com/:b:/s/ITMast...</td>\n",
       "    </tr>\n",
       "    <tr>\n",
       "      <th>18</th>\n",
       "      <td>MTSINV316242767</td>\n",
       "      <td>3641760253</td>\n",
       "      <td>2017-03-22</td>\n",
       "      <td>2020-03-22</td>\n",
       "      <td>https://rhenusasia.sharepoint.com/:b:/s/ITMast...</td>\n",
       "    </tr>\n",
       "    <tr>\n",
       "      <th>19</th>\n",
       "      <td>1400816343</td>\n",
       "      <td>CL58033</td>\n",
       "      <td>2020-03-04</td>\n",
       "      <td>2025-03-04</td>\n",
       "      <td>https://rhenusasia.sharepoint.com/:b:/s/ITMast...</td>\n",
       "    </tr>\n",
       "  </tbody>\n",
       "</table>\n",
       "</div>"
      ],
      "text/plain": [
       "     Invoice Number Serial Number Purchase Date Warranty Expiration Date  \\\n",
       "0        1400666873       6TF31L2    2017-08-20               2022-08-20   \n",
       "1        1400666873       6TDW0L2    2017-08-20               2022-08-20   \n",
       "2        1400614031       F17XPC2    2016-10-05               2021-10-05   \n",
       "3         2017-4159      PF0Q6AFJ    2017-04-21               2020-04-21   \n",
       "4        1400666873       6TB41L2    2017-08-20               2022-08-20   \n",
       "5        1400598945       571MJC2    2016-07-12               2019-07-13   \n",
       "6        1400807900       D57D3X2    2020-01-03               2023-01-03   \n",
       "7        1400813049       1MRLQ13    2020-02-13               2023-02-13   \n",
       "8        1400813049       305DQ13    2020-02-13               2023-02-13   \n",
       "9        1400807900       7S6D3X2    2020-01-03               2023-01-03   \n",
       "10       1400807900       657D3X2    2020-01-03               2023-01-03   \n",
       "11       1400807900       HL77J13    2020-01-03               2025-01-03   \n",
       "12       1400807900       HL78J13    2020-01-03               2025-01-03   \n",
       "13       1400807900       HL64J13    2020-01-03               2025-01-03   \n",
       "14       1400807900       HL60J13    2020-01-03               2025-01-03   \n",
       "15       1400807900       HL67J13    2020-01-03               2025-01-03   \n",
       "16       1400807900       HL72J13    2020-01-03               2025-01-03   \n",
       "17       1400816343       CL56033    2020-03-04               2025-03-04   \n",
       "18  MTSINV316242767    3641760253    2017-03-22               2020-03-22   \n",
       "19       1400816343       CL58033    2020-03-04               2025-03-04   \n",
       "\n",
       "                                         Invoice File  \n",
       "0   https://rhenusasia.sharepoint.com/:b:/s/ITMast...  \n",
       "1   https://rhenusasia.sharepoint.com/:b:/s/ITMast...  \n",
       "2   https://rhenusasia.sharepoint.com/:b:/s/ITMast...  \n",
       "3   https://rhenusasia.sharepoint.com/:b:/s/ITMast...  \n",
       "4   https://rhenusasia.sharepoint.com/:b:/s/ITMast...  \n",
       "5   https://rhenusasia.sharepoint.com/:b:/s/ITMast...  \n",
       "6   https://rhenusasia.sharepoint.com/:b:/s/ITMast...  \n",
       "7   https://rhenusasia.sharepoint.com/:b:/s/ITMast...  \n",
       "8   https://rhenusasia.sharepoint.com/:b:/s/ITMast...  \n",
       "9   https://rhenusasia.sharepoint.com/:b:/s/ITMast...  \n",
       "10  https://rhenusasia.sharepoint.com/:b:/s/ITMast...  \n",
       "11  https://rhenusasia.sharepoint.com/:b:/s/ITMast...  \n",
       "12  https://rhenusasia.sharepoint.com/:b:/s/ITMast...  \n",
       "13  https://rhenusasia.sharepoint.com/:b:/s/ITMast...  \n",
       "14  https://rhenusasia.sharepoint.com/:b:/s/ITMast...  \n",
       "15  https://rhenusasia.sharepoint.com/:b:/s/ITMast...  \n",
       "16  https://rhenusasia.sharepoint.com/:b:/s/ITMast...  \n",
       "17  https://rhenusasia.sharepoint.com/:b:/s/ITMast...  \n",
       "18  https://rhenusasia.sharepoint.com/:b:/s/ITMast...  \n",
       "19  https://rhenusasia.sharepoint.com/:b:/s/ITMast...  "
      ]
     },
     "execution_count": 4,
     "metadata": {},
     "output_type": "execute_result"
    }
   ],
   "source": [
    "# The row to start considering data from\n",
    "header = 0\n",
    "# The sheet's name\n",
    "sheet_name = \"Invoice Information\"\n",
    "\n",
    "# Read Invoices list\n",
    "df_invoice = pd.read_excel(invoices_list, header=header, sheet_name=sheet_name)\n",
    "# Show summary information\n",
    "df_invoice.info()\n",
    "df_invoice.head(20)"
   ]
  },
  {
   "cell_type": "markdown",
   "metadata": {},
   "source": [
    "# TODO: Clean Dump to reflect MasterData template"
   ]
  },
  {
   "cell_type": "code",
   "execution_count": 7,
   "metadata": {},
   "outputs": [],
   "source": [
    "# Specify columns to be used for local records and master data, in the right order.\n",
    "\n",
    "# devices_columns = {\"Status\", \"Email\", \"City Code\", \"Computer Name\", \"Manufacturer\", \"Category\", \"Serial Number\", \"Friendly Name\", \"Model\"}\n",
    "# df_device = df_dump[devices_columns]"
   ]
  },
  {
   "cell_type": "markdown",
   "metadata": {},
   "source": [
    "# Merge invoice information with Workspace One dump"
   ]
  },
  {
   "cell_type": "code",
   "execution_count": 14,
   "metadata": {},
   "outputs": [
    {
     "name": "stdout",
     "output_type": "stream",
     "text": [
      "['Last Seen', 'Friendly Name', 'Ownership', 'Username', 'First Name', 'Last Name', 'Email', 'Platform', 'OS', 'Model', 'Phone', 'Tags', 'Enrollment', 'Compliance Status', 'Display Name', 'Management', 'Asset Number', 'Serial Number', 'IMEI', 'Organization Group', 'Compromised', 'Home Carrier', 'Current Carrier', 'Wi-Fi IP Address', 'Public IP Address', 'Wi-Fi MAC Address', 'Notes', 'WNS Status', 'DM Last Seen', 'Build Version', 'Wi-Fi SSID', 'Android Management', 'CPU Architecture', 'Invoice Number', 'Purchase Date', 'Warranty Expiration Date', 'Invoice File']\n"
     ]
    }
   ],
   "source": [
    "# List important columns\n",
    "## TODO: Generalise for MasterData\n",
    "# devices_columns = {\"Status\", \"Serial Number\", \"Friendly Name\", \"Email\", \"Model\", \"Tags\"}\n",
    "# df_device = df_dump[devices_columns]\n",
    "df_device = df_dump\n",
    "# Join invoice information and device information\n",
    "df_device_invoice = pd.merge(df_device, df_invoice, on=\"Serial Number\", how=\"left\")\n",
    "# # Drop duplicated entries\n",
    "df_device_invoice = df_device_invoice.drop_duplicates()\n",
    "print(df_device_invoice.columns.to_list())\n",
    "# Join device and invoice information on device model name. "
   ]
  },
  {
   "cell_type": "markdown",
   "metadata": {},
   "source": [
    "# Ensure validity of cleaned dataset"
   ]
  },
  {
   "cell_type": "code",
   "execution_count": 15,
   "metadata": {},
   "outputs": [
    {
     "name": "stdout",
     "output_type": "stream",
     "text": [
      "Missing Serial Numbers:  []\n",
      "Added Serial Numbers:  []\n"
     ]
    }
   ],
   "source": [
    "# Check if data cleaning has eliminated any serial numbers\n",
    "init_serials = df_device[\"Serial Number\"].to_list()\n",
    "final_serials = df_device_invoice[\"Serial Number\"].to_list()\n",
    "init_serials = set(init_serials)\n",
    "final_serials = set(final_serials)\n",
    "missing = list(sorted(final_serials - init_serials))\n",
    "added = list(sorted(final_serials - init_serials))\n",
    "print('Missing Serial Numbers: ', missing)\n",
    "print('Added Serial Numbers: ', added)"
   ]
  },
  {
   "cell_type": "markdown",
   "metadata": {},
   "source": [
    "# Data formatting"
   ]
  },
  {
   "cell_type": "code",
   "execution_count": 16,
   "metadata": {},
   "outputs": [
    {
     "name": "stdout",
     "output_type": "stream",
     "text": [
      "<class 'pandas.core.frame.DataFrame'>\n",
      "Int64Index: 139 entries, 0 to 162\n",
      "Data columns (total 40 columns):\n",
      " #   Column                    Non-Null Count  Dtype         \n",
      "---  ------                    --------------  -----         \n",
      " 0   Last Seen                 139 non-null    object        \n",
      " 1   Friendly Name             139 non-null    object        \n",
      " 2   Ownership                 139 non-null    object        \n",
      " 3   Username                  128 non-null    object        \n",
      " 4   First Name                128 non-null    object        \n",
      " 5   Last Name                 128 non-null    object        \n",
      " 6   Email                     128 non-null    object        \n",
      " 7   Platform                  139 non-null    object        \n",
      " 8   OS                        139 non-null    object        \n",
      " 9   Model                     139 non-null    object        \n",
      " 10  Phone                     0 non-null      float64       \n",
      " 11  Tags                      126 non-null    object        \n",
      " 12  Enrollment                139 non-null    object        \n",
      " 13  Compliance Status         139 non-null    object        \n",
      " 14  Display Name              128 non-null    object        \n",
      " 15  Management                139 non-null    object        \n",
      " 16  Asset Number              0 non-null      float64       \n",
      " 17  Serial Number             139 non-null    object        \n",
      " 18  IMEI                      13 non-null     float64       \n",
      " 19  Organization Group        139 non-null    object        \n",
      " 20  Compromised               139 non-null    object        \n",
      " 21  Home Carrier              0 non-null      float64       \n",
      " 22  Current Carrier           0 non-null      float64       \n",
      " 23  Wi-Fi IP Address          0 non-null      float64       \n",
      " 24  Public IP Address         139 non-null    object        \n",
      " 25  Wi-Fi MAC Address         94 non-null     object        \n",
      " 26  Notes                     139 non-null    bool          \n",
      " 27  WNS Status                139 non-null    bool          \n",
      " 28  DM Last Seen              139 non-null    object        \n",
      " 29  Build Version             139 non-null    int64         \n",
      " 30  Wi-Fi SSID                0 non-null      float64       \n",
      " 31  Android Management        0 non-null      float64       \n",
      " 32  CPU Architecture          139 non-null    object        \n",
      " 33  Invoice Number            66 non-null     object        \n",
      " 34  Purchase Date             66 non-null     datetime64[ns]\n",
      " 35  Warranty Expiration Date  23 non-null     datetime64[ns]\n",
      " 36  Invoice File              66 non-null     object        \n",
      " 37  QR Code                   139 non-null    object        \n",
      " 38  Location                  139 non-null    object        \n",
      " 39  Asset Type                139 non-null    object        \n",
      "dtypes: bool(2), datetime64[ns](2), float64(8), int64(1), object(27)\n",
      "memory usage: 42.6+ KB\n"
     ]
    },
    {
     "data": {
      "text/plain": [
       "5522HZ2         4\n",
       "HR761N2         2\n",
       "9FTG2Z2         2\n",
       "G39JSF2         2\n",
       "GSFG2Z2         2\n",
       "               ..\n",
       "PF1EL02X        1\n",
       "014051372953    1\n",
       "9V2QYF2         1\n",
       "657D3X2         1\n",
       "DKXN0R2         1\n",
       "Name: Serial Number, Length: 100, dtype: int64"
      ]
     },
     "execution_count": 16,
     "metadata": {},
     "output_type": "execute_result"
    }
   ],
   "source": [
    "# Add columns\n",
    "## TODO: auto-generate location and location \n",
    "df_device_invoice[\"QR Code\"] = \"\"\n",
    "df_device_invoice[\"Location\"] = \"\"\n",
    "df_device_invoice[\"Asset Type\"] = \"\"\n",
    "# Re-arrange columns\n",
    "# custom_column_order = [\"Location\", \"Asset Type\", \"QR Code\", \"Serial Number\", \"Friendly Name\", \"Model\", \"Tags\", \"Invoice Number\", \"Purchase Date\", \"Warranty Expiration Date\", \"Invoice File\"]\n",
    "# df_device_invoice = df_device_invoice[custom_column_order]\n",
    "# Summary information\n",
    "df_device_invoice.info()\n",
    "# df_device_invoice.head(100)\n",
    "df_device_invoice[\"Serial Number\"].value_counts()\n"
   ]
  },
  {
   "cell_type": "markdown",
   "metadata": {},
   "source": [
    "# Export Device-Invoice data to Excel Workbook."
   ]
  },
  {
   "cell_type": "code",
   "execution_count": 18,
   "metadata": {},
   "outputs": [],
   "source": [
    "# Generate timestamp\n",
    "current_day = str(datetime.datetime.now().year) + \"_\" + str(datetime.datetime.now().month) + \"_\" + str(datetime.datetime.now().day)\n",
    "# Varible for book name\n",
    "book_url = \"./output/CNHKG0X_IT_ASSETS_\" + current_day + \".xlsx\"\n",
    "\n",
    "df_device_invoice.to_excel(book_url, index=False)"
   ]
  },
  {
   "cell_type": "markdown",
   "metadata": {},
   "source": [
    "# Generate QR Codes and Bar Codes for all devices."
   ]
  },
  {
   "cell_type": "code",
   "execution_count": 10,
   "metadata": {},
   "outputs": [],
   "source": [
    "# Update this with the name of your workbook\n",
    "book = xw.Book(book_url)\n",
    "sheet = book.sheets[0]\n",
    "# Update this with the starting cell of your URLs\n",
    "start_cell = sheet['D2']\n",
    "# Get Serial numbers of devices\n",
    "serial_numbers = start_cell.options(expand='down', ndim=1).value\n",
    "\n",
    "url_prefix = \"https://cn1380.awmdm.com/AirWatch/#/AirWatch/Search?query=\"\n",
    "\n",
    "urls = [url_prefix + item for item in serial_numbers]"
   ]
  },
  {
   "cell_type": "code",
   "execution_count": 11,
   "metadata": {},
   "outputs": [],
   "source": [
    "# # # Loop through each URL and generate the QR code\n",
    "for id, url in enumerate(urls):\n",
    "    # Generate the QR code\n",
    "    qr = segno.make(url)\n",
    "\n",
    "    with tempfile.TemporaryDirectory() as td:\n",
    "        # Save the QR code as a temporary svg file. If you are on macOS, use pdf\n",
    "        # instead and if you don't have Microsoft 365, you may have to use png\n",
    "        td = str(td)\n",
    "        filepath = f'{td}/qr.svg'\n",
    "        qr.save(filepath, scale=5, border=0, finder_dark='#000000')\n",
    "        # Insert the QR code to the right of the URL\n",
    "        destination_cell = start_cell.offset(row_offset=id, column_offset=-1)\n",
    "        # Add temporary image to spreadsheet\n",
    "        sheet.pictures.add(filepath, left=destination_cell.left, top=destination_cell.top, width=50, height=50)\n",
    "\n",
    "# Autofit row and column dimensions\n",
    "sheet.autofit(\"c\")\n",
    "sheet.autofit(\"r\")\n",
    "\n",
    "# # Resize first column to make space for QR Code\n",
    "# sheet.range(\"A\").column_width = 60\n",
    "# sheet.range(\"A\").row_height = 60"
   ]
  }
 ],
 "metadata": {
  "interpreter": {
   "hash": "c8f6f1bcb986f5e7730d81e3ae07676387ba83e915fefe6326c1256c0d19b670"
  },
  "kernelspec": {
   "display_name": "Python 3.9.6 64-bit",
   "name": "python3"
  },
  "language_info": {
   "codemirror_mode": {
    "name": "ipython",
    "version": 3
   },
   "file_extension": ".py",
   "mimetype": "text/x-python",
   "name": "python",
   "nbconvert_exporter": "python",
   "pygments_lexer": "ipython3",
   "version": "3.9.6"
  },
  "orig_nbformat": 4
 },
 "nbformat": 4,
 "nbformat_minor": 2
}
